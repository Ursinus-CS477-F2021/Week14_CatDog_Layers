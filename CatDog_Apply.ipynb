{
 "cells": [
  {
   "cell_type": "code",
   "execution_count": null,
   "id": "fe5e109c",
   "metadata": {},
   "outputs": [],
   "source": [
    "# Import libraries\n",
    "import tensorflow as tf\n",
    "import numpy as np\n",
    "from tensorflow.keras.datasets import mnist\n",
    "from tensorflow.keras import layers\n",
    "from tensorflow.keras.models import Sequential\n",
    "from tensorflow.keras.optimizers import SGD\n",
    "from tensorflow.keras.layers import Dense, Conv2D\n",
    "from tensorflow.keras.preprocessing.image import ImageDataGenerator\n",
    "import string\n",
    "import time\n",
    "import matplotlib.pyplot as plt\n",
    "import skimage.io\n",
    "from skimage.transform import resize\n",
    "import glob"
   ]
  },
  {
   "cell_type": "code",
   "execution_count": null,
   "id": "2aa7e298",
   "metadata": {},
   "outputs": [],
   "source": [
    "imgres = 128\n",
    "\n",
    "def get_simple_model():\n",
    "    model = Sequential()\n",
    "    model.add(layers.Conv2D(8, (5, 5), activation='relu', strides=1,\n",
    "                            input_shape=(imgres, imgres, 3)))\n",
    "    model.add(layers.MaxPooling2D((2, 2)))\n",
    "    model.add(layers.Conv2D(16, (5, 5), activation='relu', strides=1))\n",
    "    model.add(layers.MaxPooling2D((2, 2)))\n",
    "    model.add(layers.Flatten())\n",
    "    model.add(layers.Dense(1, activation='sigmoid'))\n",
    "    return model\n",
    "\n",
    "def get_better_model():\n",
    "    model = Sequential()\n",
    "    model.add(layers.Conv2D(32, (3, 3), activation='relu', kernel_initializer='he_uniform', padding='same', input_shape=(imgres, imgres, 3)))\n",
    "    model.add(layers.MaxPooling2D((2, 2)))\n",
    "    model.add(layers.Dropout(0.2))\n",
    "    model.add(layers.Conv2D(64, (3, 3), activation='relu', kernel_initializer='he_uniform', padding='same'))\n",
    "    model.add(layers.MaxPooling2D((2, 2)))\n",
    "    model.add(layers.Dropout(0.2))\n",
    "    model.add(layers.Conv2D(128, (3, 3), activation='relu', kernel_initializer='he_uniform', padding='same'))\n",
    "    model.add(layers.MaxPooling2D((2, 2)))\n",
    "    model.add(layers.Dropout(0.2))\n",
    "    model.add(layers.Flatten())\n",
    "    model.add(layers.Dense(128, activation='relu', kernel_initializer='he_uniform'))\n",
    "    model.add(layers.Dropout(0.5))\n",
    "    model.add(layers.Dense(1, activation='sigmoid'))\n",
    "    return model"
   ]
  },
  {
   "cell_type": "code",
   "execution_count": null,
   "id": "3eb704e1",
   "metadata": {},
   "outputs": [],
   "source": [
    "model = get_better_model()\n",
    "model.load_weights(\"models/catdog_better\")\n",
    "model.summary()\n",
    "model.layers"
   ]
  },
  {
   "cell_type": "code",
   "execution_count": null,
   "id": "fab1c0d1",
   "metadata": {},
   "outputs": [],
   "source": [
    "def preprocess_resize(x):\n",
    "    x = resize(x, (imgres, imgres), anti_aliasing=True)\n",
    "    return np.array(x, dtype=np.float32)/255\n",
    "\n",
    "datagen = ImageDataGenerator(preprocessing_function = preprocess_resize)\n",
    "img_load = datagen.flow_from_directory(\"myexamples\",\n",
    "        class_mode=\"binary\", batch_size=64, shuffle=True,\n",
    "        target_size=(imgres, imgres))\n",
    "Xs = img_load.next()\n",
    "predictions = model(Xs).numpy().flatten()\n",
    "print(predictions)"
   ]
  },
  {
   "cell_type": "code",
   "execution_count": null,
   "id": "2095ee51",
   "metadata": {},
   "outputs": [],
   "source": [
    "for k in range(Xs[0].shape[0]):\n",
    "    plt.figure()\n",
    "    x = Xs[0][k, :, :, :]\n",
    "    plt.imshow(x)\n",
    "    pred = predictions[k]\n",
    "    s = \"{:.3f}, Prediction:{}\".format(pred, [\"cat\", \"dog\"][int(pred > 0.5)])\n",
    "    plt.title(s);"
   ]
  },
  {
   "cell_type": "code",
   "execution_count": null,
   "id": "3ca50020",
   "metadata": {
    "scrolled": true
   },
   "outputs": [],
   "source": [
    "weights, bias = model.layers[0].weights\n",
    "weights = weights.numpy()\n",
    "y = model.layers[0](x[None, :, :, :])\n",
    "plt.figure(figsize=(y.shape[-1]*3, 6))\n",
    "vmin = np.min(y)\n",
    "vmax = np.max(y)\n",
    "for k in range(y.shape[-1]):\n",
    "    plt.subplot(2, y.shape[-1], k+1)\n",
    "    plt.imshow(np.array(255*weights[:, :, :, k], dtype=np.uint8))\n",
    "    plt.subplot(2, y.shape[-1], y.shape[-1]+k+1)\n",
    "    plt.imshow(y[0, :, :, k], cmap='magma_r', vmin=vmin, vmax=vmax)"
   ]
  },
  {
   "cell_type": "code",
   "execution_count": null,
   "id": "b7eb435c",
   "metadata": {},
   "outputs": [],
   "source": []
  }
 ],
 "metadata": {
  "kernelspec": {
   "display_name": "Python 3",
   "language": "python",
   "name": "python3"
  },
  "language_info": {
   "codemirror_mode": {
    "name": "ipython",
    "version": 3
   },
   "file_extension": ".py",
   "mimetype": "text/x-python",
   "name": "python",
   "nbconvert_exporter": "python",
   "pygments_lexer": "ipython3",
   "version": "3.8.8"
  }
 },
 "nbformat": 4,
 "nbformat_minor": 5
}
